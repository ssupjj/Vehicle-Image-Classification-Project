{
 "cells": [
  {
   "cell_type": "markdown",
   "metadata": {},
   "source": [
    "## Imports"
   ]
  },
  {
   "cell_type": "code",
   "execution_count": 55,
   "metadata": {},
   "outputs": [],
   "source": [
    "import os\n",
    "import numpy as np\n",
    "import pandas as pd\n",
    "import matplotlib.pyplot as plt\n",
    "import cv2\n",
    "from sklearn.model_selection import train_test_split, StratifiedKFold, GridSearchCV\n",
    "from sklearn.svm import SVC\n",
    "from sklearn.metrics import roc_auc_score\n",
    "from sklearn.metrics import accuracy_score"
   ]
  },
  {
   "cell_type": "markdown",
   "metadata": {},
   "source": [
    "## Load Dataset"
   ]
  },
  {
   "cell_type": "code",
   "execution_count": 2,
   "metadata": {},
   "outputs": [],
   "source": [
    "path_dir = './vehicles/vehicles/'\n",
    "\n",
    "folder_list = os.listdir(path_dir)\n",
    "file_list = {}\n",
    "all_vehicles = []\n",
    "for index, i in enumerate(folder_list[1:]):\n",
    "    file_list[i] = os.listdir(path_dir + i)\n",
    "\n",
    "for key in file_list.keys():\n",
    "    for value in file_list[key][1:]:\n",
    "        all_vehicles.append(cv2.imread(path_dir + key +'/'+ value))"
   ]
  },
  {
   "cell_type": "code",
   "execution_count": 3,
   "metadata": {
    "scrolled": false
   },
   "outputs": [
    {
     "data": {
      "text/plain": [
       "8792"
      ]
     },
     "execution_count": 3,
     "metadata": {},
     "output_type": "execute_result"
    }
   ],
   "source": [
    "len(all_vehicles)"
   ]
  },
  {
   "cell_type": "code",
   "execution_count": 4,
   "metadata": {},
   "outputs": [],
   "source": [
    "path_dir = './non-vehicles/non-vehicles/'\n",
    "\n",
    "folder_list = os.listdir(path_dir)\n",
    "file_list = {}\n",
    "non_vehicles = []\n",
    "for index, i in enumerate(folder_list[1:]):\n",
    "    file_list[i] = os.listdir(path_dir + i)\n",
    "\n",
    "for key in file_list.keys():\n",
    "    for value in file_list[key][1:]:\n",
    "        non_vehicles.append(cv2.imread(path_dir + key +'/'+ value))"
   ]
  },
  {
   "cell_type": "code",
   "execution_count": 5,
   "metadata": {},
   "outputs": [
    {
     "data": {
      "text/plain": [
       "8968"
      ]
     },
     "execution_count": 5,
     "metadata": {},
     "output_type": "execute_result"
    }
   ],
   "source": [
    "len(non_vehicles)"
   ]
  },
  {
   "cell_type": "code",
   "execution_count": 6,
   "metadata": {},
   "outputs": [],
   "source": [
    "y_vehicles = np.ones(8792).astype(int)\n",
    "y_non = np.zeros(8968).astype(int)"
   ]
  },
  {
   "cell_type": "code",
   "execution_count": 7,
   "metadata": {},
   "outputs": [],
   "source": [
    "x_train = np.concatenate([all_vehicles, non_vehicles], axis=0)\n",
    "\n",
    "y_train = np.concatenate([y_vehicles, y_non], axis=0)"
   ]
  },
  {
   "cell_type": "code",
   "execution_count": 8,
   "metadata": {},
   "outputs": [
    {
     "data": {
      "text/plain": [
       "(17760, 64, 64, 3)"
      ]
     },
     "execution_count": 8,
     "metadata": {},
     "output_type": "execute_result"
    }
   ],
   "source": [
    "x_train.shape"
   ]
  },
  {
   "cell_type": "code",
   "execution_count": 9,
   "metadata": {},
   "outputs": [
    {
     "data": {
      "text/plain": [
       "17760"
      ]
     },
     "execution_count": 9,
     "metadata": {},
     "output_type": "execute_result"
    }
   ],
   "source": [
    "len(y_train)"
   ]
  },
  {
   "cell_type": "markdown",
   "metadata": {},
   "source": [
    "## Basic Summary of Dataset"
   ]
  },
  {
   "cell_type": "code",
   "execution_count": 81,
   "metadata": {},
   "outputs": [],
   "source": [
    "hist_flat = []\n",
    "for img in x_train:\n",
    "    hist = cv2.calcHist(images=[img], channels=[0], mask=None,\n",
    "                histSize=[32], ranges=[0, 256]) \n",
    "    hist_flat.append(hist.flatten())\n",
    "    "
   ]
  },
  {
   "cell_type": "code",
   "execution_count": 84,
   "metadata": {},
   "outputs": [],
   "source": [
    "x_hist = np.array(hist_flat)"
   ]
  },
  {
   "cell_type": "code",
   "execution_count": null,
   "metadata": {},
   "outputs": [],
   "source": []
  },
  {
   "cell_type": "code",
   "execution_count": 77,
   "metadata": {},
   "outputs": [
    {
     "data": {
      "text/plain": [
       "(17760, 32, 1)"
      ]
     },
     "execution_count": 77,
     "metadata": {},
     "output_type": "execute_result"
    }
   ],
   "source": [
    "histlist = []\n",
    "for img in x_train:\n",
    "    hist = cv2.calcHist(images=[img], channels=[0], mask=None,\n",
    "                histSize=[32], ranges=[0, 256]) \n",
    "    histlist.append(hist)\n",
    "\n",
    "np.array(histlist).shape"
   ]
  },
  {
   "cell_type": "code",
   "execution_count": 11,
   "metadata": {},
   "outputs": [],
   "source": [
    "gray = []\n",
    "for img in x_train:\n",
    "    gray.append(cv2.cvtColor(img, cv2.COLOR_BGR2GRAY))"
   ]
  },
  {
   "cell_type": "code",
   "execution_count": 12,
   "metadata": {},
   "outputs": [],
   "source": [
    "x_gray = np.array(gray)"
   ]
  },
  {
   "cell_type": "code",
   "execution_count": 13,
   "metadata": {
    "scrolled": true
   },
   "outputs": [
    {
     "data": {
      "text/plain": [
       "(17760, 64, 64)"
      ]
     },
     "execution_count": 13,
     "metadata": {},
     "output_type": "execute_result"
    }
   ],
   "source": [
    "x_gray.shape"
   ]
  },
  {
   "cell_type": "code",
   "execution_count": 61,
   "metadata": {
    "scrolled": true
   },
   "outputs": [
    {
     "data": {
      "text/plain": [
       "<matplotlib.image.AxesImage at 0x283a6b15490>"
      ]
     },
     "execution_count": 61,
     "metadata": {},
     "output_type": "execute_result"
    },
    {
     "data": {
      "image/png": "[encoded data removed]",
      "text/plain": [
       "<Figure size 432x288 with 1 Axes>"
      ]
     },
     "metadata": {
      "needs_background": "light"
     },
     "output_type": "display_data"
    }
   ],
   "source": [
    "plt.imshow(x_gray[50,:,:], cmap='gray')"
   ]
  },
  {
   "cell_type": "code",
   "execution_count": 14,
   "metadata": {
    "scrolled": true
   },
   "outputs": [],
   "source": [
    "#x_gray = x_gray.reshape(17760,4096)\n",
    "#x_gray.shape"
   ]
  },
  {
   "cell_type": "code",
   "execution_count": 34,
   "metadata": {},
   "outputs": [],
   "source": [
    "from skimage.feature import hog\n",
    "hogs=[]\n",
    "hog_images=[]\n",
    "for gray in x_gray:\n",
    "    hog_feature, hog_image = hog(gray, orientations=9, pixels_per_cell=(8,8),\n",
    "                                cells_per_block=(2,2),\n",
    "                                block_norm='L2-Hys', transform_sqrt=False,\n",
    "                                visualize=True, feature_vector=False)\n",
    "    hogs.append(hog_feature)\n",
    "    hog_images.append(hog_image)"
   ]
  },
  {
   "cell_type": "code",
   "execution_count": 47,
   "metadata": {},
   "outputs": [],
   "source": [
    "np.array(hog_images).shape\n",
    "hog_feature = np.array(hog_feature).flatten()"
   ]
  },
  {
   "cell_type": "code",
   "execution_count": 62,
   "metadata": {},
   "outputs": [],
   "source": [
    "hog_features=[]\n",
    "for i in hogs:\n",
    "    hog_features.append(i.flatten())"
   ]
  },
  {
   "cell_type": "code",
   "execution_count": 63,
   "metadata": {},
   "outputs": [],
   "source": [
    "hog_features = np.array(hog_features)"
   ]
  },
  {
   "cell_type": "code",
   "execution_count": 66,
   "metadata": {},
   "outputs": [
    {
     "data": {
      "text/plain": [
       "(17760, 1764)"
      ]
     },
     "execution_count": 66,
     "metadata": {},
     "output_type": "execute_result"
    }
   ],
   "source": [
    "hog_features.shape"
   ]
  },
  {
   "cell_type": "code",
   "execution_count": 33,
   "metadata": {},
   "outputs": [
    {
     "data": {
      "text/plain": [
       "array([[0.        , 0.        , 0.        , ..., 0.        , 0.        ,\n",
       "        0.        ],\n",
       "       [0.        , 0.        , 0.9542613 , ..., 0.        , 0.        ,\n",
       "        0.        ],\n",
       "       [0.        , 6.04524469, 0.        , ..., 0.        , 7.92970872,\n",
       "        0.        ],\n",
       "       ...,\n",
       "       [0.        , 7.30894804, 0.        , ..., 0.        , 1.28847051,\n",
       "        0.        ],\n",
       "       [0.        , 0.        , 0.        , ..., 3.40248418, 0.        ,\n",
       "        0.        ],\n",
       "       [0.        , 0.        , 0.        , ..., 0.        , 0.        ,\n",
       "        0.        ]])"
      ]
     },
     "execution_count": 33,
     "metadata": {},
     "output_type": "execute_result"
    }
   ],
   "source": [
    "#hog_image"
   ]
  },
  {
   "cell_type": "code",
   "execution_count": 27,
   "metadata": {
    "scrolled": true
   },
   "outputs": [
    {
     "data": {
      "text/plain": [
       "(17760, 64)"
      ]
     },
     "execution_count": 27,
     "metadata": {},
     "output_type": "execute_result"
    }
   ],
   "source": [
    "#hog_image.shape"
   ]
  },
  {
   "cell_type": "code",
   "execution_count": 86,
   "metadata": {},
   "outputs": [],
   "source": [
    "x_prepared = np.concatenate([x_hist, hog_features], axis=1)"
   ]
  },
  {
   "cell_type": "code",
   "execution_count": 87,
   "metadata": {},
   "outputs": [
    {
     "data": {
      "text/plain": [
       "(17760, 1796)"
      ]
     },
     "execution_count": 87,
     "metadata": {},
     "output_type": "execute_result"
    }
   ],
   "source": [
    "x_prepared.shape"
   ]
  },
  {
   "cell_type": "markdown",
   "metadata": {},
   "source": [
    "## Visualize Some of the Data"
   ]
  },
  {
   "cell_type": "code",
   "execution_count": null,
   "metadata": {},
   "outputs": [],
   "source": []
  },
  {
   "cell_type": "markdown",
   "metadata": {},
   "source": [
    "## Feature Extraction Method"
   ]
  },
  {
   "cell_type": "code",
   "execution_count": null,
   "metadata": {},
   "outputs": [],
   "source": [
    "# Raw pixel intensity : (Color and Shape)\n",
    "# Histogram of pixel intensity : (Color only)\n",
    "# Gradients of pixel intensity : (Shape only)"
   ]
  },
  {
   "cell_type": "code",
   "execution_count": null,
   "metadata": {},
   "outputs": [],
   "source": []
  },
  {
   "cell_type": "markdown",
   "metadata": {},
   "source": [
    "## Feature Extraction"
   ]
  },
  {
   "cell_type": "markdown",
   "metadata": {},
   "source": [
    "## Data Preparation"
   ]
  },
  {
   "cell_type": "code",
   "execution_count": 88,
   "metadata": {},
   "outputs": [],
   "source": [
    "Xtrain, Xval, Ytrain, Yval = train_test_split(x_prepared, y_train, test_size = 0.3, stratify=y_train, random_state = 999)"
   ]
  },
  {
   "cell_type": "code",
   "execution_count": 68,
   "metadata": {
    "scrolled": true
   },
   "outputs": [
    {
     "data": {
      "text/plain": [
       "(12432, 5328)"
      ]
     },
     "execution_count": 68,
     "metadata": {},
     "output_type": "execute_result"
    }
   ],
   "source": [
    "len(Xtrain), len(Xval)"
   ]
  },
  {
   "cell_type": "code",
   "execution_count": 69,
   "metadata": {
    "scrolled": true
   },
   "outputs": [
    {
     "data": {
      "text/plain": [
       "(12432, 1764)"
      ]
     },
     "execution_count": 69,
     "metadata": {},
     "output_type": "execute_result"
    }
   ],
   "source": [
    "Xtrain.shape"
   ]
  },
  {
   "cell_type": "markdown",
   "metadata": {},
   "source": [
    "## Classifier"
   ]
  },
  {
   "cell_type": "code",
   "execution_count": 32,
   "metadata": {},
   "outputs": [
    {
     "name": "stdout",
     "output_type": "stream",
     "text": [
      "0.6785714285714285\n",
      "{'C': 5, 'gamma': 0.001}\n"
     ]
    }
   ],
   "source": [
    "#1 raw image\n",
    "\n",
    "#skfold = StratifiedKFold(n_splits = 3, shuffle=True, random_state=999)\n",
    "\n",
    "# 파라미터\n",
    "C = [0.01, 0.1, 1, 5, 10, 15, 20, 50]\n",
    "gamma = [0.001, 0.01, 0.1]\n",
    "\n",
    "# 파라미터 그리드\n",
    "params = {'C': C, 'gamma': gamma}\n",
    "\n",
    "# 교차검증\n",
    "svc_grid = GridSearchCV(estimator=SVC(probability=True), param_grid=params, cv=3, scoring=\"accuracy\", n_jobs = -1)\n",
    "\n",
    "# 모델 fitting\n",
    "svc_grid.fit(Xtrain, Ytrain)\n",
    "\n",
    "# 결과\n",
    "print(svc_grid.best_score_)\n",
    "print(svc_grid.best_params_)"
   ]
  },
  {
   "cell_type": "code",
   "execution_count": null,
   "metadata": {},
   "outputs": [],
   "source": [
    "pred = svc_grid.best_estimator_.predict(Xval)"
   ]
  },
  {
   "cell_type": "code",
   "execution_count": 56,
   "metadata": {},
   "outputs": [
    {
     "name": "stdout",
     "output_type": "stream",
     "text": [
      "0.6979303065575757\n",
      "0.6983858858858859\n"
     ]
    }
   ],
   "source": [
    "print(roc_auc_score(Yval, pred))\n",
    "print(accuracy_score(Yval, pred))"
   ]
  },
  {
   "cell_type": "code",
   "execution_count": 72,
   "metadata": {},
   "outputs": [
    {
     "name": "stdout",
     "output_type": "stream",
     "text": [
      "0.968133034206944\n",
      "0.9682807807807807\n"
     ]
    }
   ],
   "source": [
    "#2 hog 적용\n",
    "svc = SVC(probability=True, C = 5, gamma = 0.001, random_state=999)\n",
    "svc.fit(Xtrain, Ytrain)\n",
    "pred = svc.predict(Xval)\n",
    "print(roc_auc_score(Yval, pred))\n",
    "print(accuracy_score(Yval, pred))"
   ]
  },
  {
   "cell_type": "code",
   "execution_count": 89,
   "metadata": {},
   "outputs": [
    {
     "name": "stdout",
     "output_type": "stream",
     "text": [
      "0.5172479150871873\n",
      "0.5219594594594594\n"
     ]
    }
   ],
   "source": [
    "#3 hog + hist\n",
    "svc = SVC(probability=True, C = 5, gamma = 0.001, random_state=999)\n",
    "svc.fit(Xtrain, Ytrain)\n",
    "pred = svc.predict(Xval)\n",
    "print(roc_auc_score(Yval, pred))\n",
    "print(accuracy_score(Yval, pred))"
   ]
  },
  {
   "cell_type": "markdown",
   "metadata": {},
   "source": [
    "## Data Saving to Pickle"
   ]
  },
  {
   "cell_type": "code",
   "execution_count": null,
   "metadata": {},
   "outputs": [],
   "source": []
  },
  {
   "cell_type": "code",
   "execution_count": null,
   "metadata": {},
   "outputs": [],
   "source": []
  }
 ],
 "metadata": {
  "kernelspec": {
   "display_name": "Python 3",
   "language": "python",
   "name": "python3"
  },
  "language_info": {
   "codemirror_mode": {
    "name": "ipython",
    "version": 3
   },
   "file_extension": ".py",
   "mimetype": "text/x-python",
   "name": "python",
   "nbconvert_exporter": "python",
   "pygments_lexer": "ipython3",
   "version": "3.8.8"
  },
  "varInspector": {
   "cols": {
    "lenName": 16,
    "lenType": 16,
    "lenVar": 40
   },
   "kernels_config": {
    "python": {
     "delete_cmd_postfix": "",
     "delete_cmd_prefix": "del ",
     "library": "var_list.py",
     "varRefreshCmd": "print(var_dic_list())"
    },
    "r": {
     "delete_cmd_postfix": ") ",
     "delete_cmd_prefix": "rm(",
     "library": "var_list.r",
     "varRefreshCmd": "cat(var_dic_list()) "
    }
   },
   "types_to_exclude": [
    "module",
    "function",
    "builtin_function_or_method",
    "instance",
    "_Feature"
   ],
   "window_display": false
  }
 },
 "nbformat": 4,
 "nbformat_minor": 4
}
