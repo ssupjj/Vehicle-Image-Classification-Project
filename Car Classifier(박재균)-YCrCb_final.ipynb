{
 "cells": [
  {
   "cell_type": "markdown",
   "metadata": {},
   "source": [
    "## Imports"
   ]
  },
  {
   "cell_type": "code",
   "execution_count": 1,
   "metadata": {},
   "outputs": [],
   "source": [
    "import os\n",
    "import numpy as np\n",
    "import pandas as pd\n",
    "import matplotlib.pyplot as plt\n",
    "import cv2\n",
    "from sklearn.model_selection import train_test_split, StratifiedKFold, GridSearchCV\n",
    "from sklearn.svm import LinearSVC\n",
    "from sklearn.metrics import roc_auc_score\n",
    "from sklearn.metrics import accuracy_score\n",
    "from sklearn.preprocessing import StandardScaler\n",
    "from skimage.feature import hog"
   ]
  },
  {
   "cell_type": "markdown",
   "metadata": {},
   "source": [
    "## Load Dataset"
   ]
  },
  {
   "cell_type": "code",
   "execution_count": 2,
   "metadata": {},
   "outputs": [],
   "source": [
    "path_dir = './vehicles/vehicles/'\n",
    "\n",
    "folder_list = os.listdir(path_dir)\n",
    "file_list = {}\n",
    "all_vehicles = []\n",
    "for index, i in enumerate(folder_list[1:]):\n",
    "    file_list[i] = os.listdir(path_dir + i)\n",
    "\n",
    "for key in file_list.keys():\n",
    "    for value in file_list[key][1:]:\n",
    "        all_vehicles.append(cv2.imread(path_dir + key +'/'+ value))"
   ]
  },
  {
   "cell_type": "code",
   "execution_count": 3,
   "metadata": {
    "scrolled": false
   },
   "outputs": [
    {
     "data": {
      "text/plain": [
       "8792"
      ]
     },
     "execution_count": 3,
     "metadata": {},
     "output_type": "execute_result"
    }
   ],
   "source": [
    "len(all_vehicles)"
   ]
  },
  {
   "cell_type": "code",
   "execution_count": 4,
   "metadata": {},
   "outputs": [],
   "source": [
    "path_dir = './non-vehicles/non-vehicles/'\n",
    "\n",
    "folder_list = os.listdir(path_dir)\n",
    "file_list = {}\n",
    "non_vehicles = []\n",
    "for index, i in enumerate(folder_list[1:]):\n",
    "    file_list[i] = os.listdir(path_dir + i)\n",
    "\n",
    "for key in file_list.keys():\n",
    "    for value in file_list[key][1:]:\n",
    "        non_vehicles.append(cv2.imread(path_dir + key +'/'+ value))"
   ]
  },
  {
   "cell_type": "code",
   "execution_count": 5,
   "metadata": {},
   "outputs": [
    {
     "data": {
      "text/plain": [
       "8968"
      ]
     },
     "execution_count": 5,
     "metadata": {},
     "output_type": "execute_result"
    }
   ],
   "source": [
    "len(non_vehicles)"
   ]
  },
  {
   "cell_type": "code",
   "execution_count": 6,
   "metadata": {},
   "outputs": [],
   "source": [
    "y_vehicles = np.ones(8792).astype(int)\n",
    "y_non = np.zeros(8968).astype(int)"
   ]
  },
  {
   "cell_type": "code",
   "execution_count": 7,
   "metadata": {},
   "outputs": [],
   "source": [
    "x_train = np.concatenate([all_vehicles, non_vehicles], axis=0)\n",
    "\n",
    "y_train = np.concatenate([y_vehicles, y_non], axis=0)"
   ]
  },
  {
   "cell_type": "code",
   "execution_count": 8,
   "metadata": {},
   "outputs": [
    {
     "data": {
      "text/plain": [
       "(17760, 64, 64, 3)"
      ]
     },
     "execution_count": 8,
     "metadata": {},
     "output_type": "execute_result"
    }
   ],
   "source": [
    "x_train.shape"
   ]
  },
  {
   "cell_type": "code",
   "execution_count": 9,
   "metadata": {},
   "outputs": [
    {
     "data": {
      "text/plain": [
       "17760"
      ]
     },
     "execution_count": 9,
     "metadata": {},
     "output_type": "execute_result"
    }
   ],
   "source": [
    "len(y_train)"
   ]
  },
  {
   "cell_type": "code",
   "execution_count": null,
   "metadata": {},
   "outputs": [],
   "source": [
    "# YCrCb로 변경"
   ]
  },
  {
   "cell_type": "code",
   "execution_count": 10,
   "metadata": {},
   "outputs": [],
   "source": [
    "ycrcb = []\n",
    "for img in x_train:\n",
    "    ycrcb.append(cv2.cvtColor(img, cv2.COLOR_BGR2YCrCb))\n",
    "    \n",
    "x_ycrcb = np.array(ycrcb)"
   ]
  },
  {
   "cell_type": "code",
   "execution_count": 12,
   "metadata": {},
   "outputs": [
    {
     "data": {
      "text/plain": [
       "(17760, 64, 64, 3)"
      ]
     },
     "execution_count": 12,
     "metadata": {},
     "output_type": "execute_result"
    }
   ],
   "source": [
    "x_ycrcb.shape"
   ]
  },
  {
   "cell_type": "markdown",
   "metadata": {},
   "source": [
    "## Feature Extraction : histogram, hog, resize 함수생성"
   ]
  },
  {
   "cell_type": "code",
   "execution_count": null,
   "metadata": {},
   "outputs": [],
   "source": [
    "# 히스토그램 함수생성"
   ]
  },
  {
   "cell_type": "code",
   "execution_count": 13,
   "metadata": {},
   "outputs": [],
   "source": [
    "def hist_(x):\n",
    "\n",
    "    hist_flat0=[]\n",
    "    for img in x:\n",
    "        hist = cv2.calcHist(images=[img], channels=[0], mask=None,\n",
    "                        histSize=[32], ranges=[0, 256]) \n",
    "        hist_flat0.append(hist.flatten())\n",
    "\n",
    "    hist_flat1=[]\n",
    "    for img in x:\n",
    "        hist = cv2.calcHist(images=[img], channels=[1], mask=None,\n",
    "                        histSize=[32], ranges=[0, 256]) \n",
    "        hist_flat1.append(hist.flatten())\n",
    "\n",
    "    hist_flat2=[]\n",
    "    for img in x:\n",
    "        hist = cv2.calcHist(images=[img], channels=[2], mask=None,\n",
    "                        histSize=[32], ranges=[0, 256]) \n",
    "        hist_flat2.append(hist.flatten())\n",
    "        \n",
    "    hist_flat0 = np.array(hist_flat0)\n",
    "    hist_flat1 = np.array(hist_flat1)\n",
    "    hist_flat2 = np.array(hist_flat2)\n",
    "    hist_flat = np.hstack((hist_flat0, hist_flat1, hist_flat2))\n",
    "        \n",
    "    return hist_flat"
   ]
  },
  {
   "cell_type": "code",
   "execution_count": 14,
   "metadata": {},
   "outputs": [],
   "source": [
    "x_hist = hist_(x_ycrcb)"
   ]
  },
  {
   "cell_type": "code",
   "execution_count": 15,
   "metadata": {},
   "outputs": [
    {
     "data": {
      "text/plain": [
       "(17760, 96)"
      ]
     },
     "execution_count": 15,
     "metadata": {},
     "output_type": "execute_result"
    }
   ],
   "source": [
    "x_hist.shape"
   ]
  },
  {
   "cell_type": "code",
   "execution_count": null,
   "metadata": {},
   "outputs": [],
   "source": [
    "# hog_hsv 함수생성"
   ]
  },
  {
   "cell_type": "code",
   "execution_count": 16,
   "metadata": {
    "scrolled": true
   },
   "outputs": [
    {
     "data": {
      "text/plain": [
       "(17760, 64, 64, 3)"
      ]
     },
     "execution_count": 16,
     "metadata": {},
     "output_type": "execute_result"
    }
   ],
   "source": [
    "x_ycrcb.shape"
   ]
  },
  {
   "cell_type": "code",
   "execution_count": 20,
   "metadata": {},
   "outputs": [],
   "source": [
    "def hog_(x):\n",
    "#     hsv = []\n",
    "#     for img in x:\n",
    "#         hsv.append(cv2.cvtColor(img, cv2.COLOR_BGR2HSV))\n",
    "    \n",
    "#     x_hsv = np.array(hsv)\n",
    "    \n",
    "    hog_features = []\n",
    "    hog_images=[]\n",
    "    y, cr, cb = x[:,:,:,0], x[:,:,:,1], x[:,:,:,2]\n",
    "    \n",
    "    #h\n",
    "    hog_features_y = []\n",
    "    hog_images_y=[]\n",
    "    for img in y:\n",
    "        hog_feature, hog_image = hog(img, orientations=9, pixels_per_cell=(8,8),\n",
    "                                    cells_per_block=(2,2),\n",
    "                                    block_norm='L2-Hys', transform_sqrt=False,\n",
    "                                    visualize=True, feature_vector=False)\n",
    "        hog_features_y.append(hog_feature.flatten())\n",
    "        hog_images_y.append(hog_image)\n",
    "    \n",
    "    #s\n",
    "    hog_features_cr = []\n",
    "    hog_images_cr=[]\n",
    "    for img in cr:\n",
    "        hog_feature, hog_image = hog(img, orientations=9, pixels_per_cell=(8,8),\n",
    "                                    cells_per_block=(2,2),\n",
    "                                    block_norm='L2-Hys', transform_sqrt=False,\n",
    "                                    visualize=True, feature_vector=False)\n",
    "        hog_features_cr.append(hog_feature.flatten())\n",
    "        hog_images_cr.append(hog_image)\n",
    "    \n",
    "    #v\n",
    "    hog_features_cb = []\n",
    "    hog_images_cb =[]\n",
    "    for img in cb:\n",
    "        hog_feature, hog_image = hog(img, orientations=9, pixels_per_cell=(8,8),\n",
    "                                    cells_per_block=(2,2),\n",
    "                                    block_norm='L2-Hys', transform_sqrt=False,\n",
    "                                    visualize=True, feature_vector=False)\n",
    "        hog_features_cb.append(hog_feature.flatten())\n",
    "        hog_images_cb.append(hog_image)\n",
    "        \n",
    "    hog_features = np.hstack((np.array(hog_features_y),np.hstack((np.array(hog_features_cr),np.array(hog_features_cb)))))\n",
    "    hog_images = np.hstack((np.array(hog_images_y),np.hstack((np.array(hog_images_cr),np.array(hog_images_cb)))))\n",
    "                           \n",
    "    return hog_features, hog_images"
   ]
  },
  {
   "cell_type": "code",
   "execution_count": 21,
   "metadata": {},
   "outputs": [
    {
     "data": {
      "text/plain": [
       "(17760, 5292)"
      ]
     },
     "execution_count": 21,
     "metadata": {},
     "output_type": "execute_result"
    }
   ],
   "source": [
    "x_hog = hog_(x_ycrcb)\n",
    "x_hog_features = x_hog[0]\n",
    "x_hog_images = x_hog[1]\n",
    "x_hog_features.shape"
   ]
  },
  {
   "cell_type": "code",
   "execution_count": null,
   "metadata": {},
   "outputs": [],
   "source": [
    "# resize"
   ]
  },
  {
   "cell_type": "code",
   "execution_count": 22,
   "metadata": {},
   "outputs": [],
   "source": [
    "def resize(x):\n",
    "    \n",
    "    resized_x = []\n",
    "    for img in x:\n",
    "        resized = cv2.resize(img,(32,32))\n",
    "        resized_x.append(resized.flatten())\n",
    "    resized_flat = np.array(resized_x)\n",
    "    \n",
    "    return resized_flat"
   ]
  },
  {
   "cell_type": "code",
   "execution_count": 23,
   "metadata": {},
   "outputs": [
    {
     "data": {
      "text/plain": [
       "(17760, 3072)"
      ]
     },
     "execution_count": 23,
     "metadata": {},
     "output_type": "execute_result"
    }
   ],
   "source": [
    "x_resize = resize(x_ycrcb)\n",
    "x_resize.shape"
   ]
  },
  {
   "cell_type": "markdown",
   "metadata": {},
   "source": [
    "## 함수변환데이터 병합 및 표준화"
   ]
  },
  {
   "cell_type": "code",
   "execution_count": 24,
   "metadata": {},
   "outputs": [
    {
     "data": {
      "text/plain": [
       "(17760, 8460)"
      ]
     },
     "execution_count": 24,
     "metadata": {},
     "output_type": "execute_result"
    }
   ],
   "source": [
    "x_prepared = np.concatenate([x_hist, x_hog_features, x_resize], axis=1)\n",
    "x_prepared.shape"
   ]
  },
  {
   "cell_type": "code",
   "execution_count": null,
   "metadata": {},
   "outputs": [],
   "source": [
    "# 표준화"
   ]
  },
  {
   "cell_type": "code",
   "execution_count": 25,
   "metadata": {},
   "outputs": [],
   "source": [
    "Scaler = StandardScaler().fit(x_prepared)\n",
    "x_scaled = Scaler.transform(x_prepared)"
   ]
  },
  {
   "cell_type": "markdown",
   "metadata": {},
   "source": [
    "## Data Preparation"
   ]
  },
  {
   "cell_type": "code",
   "execution_count": 26,
   "metadata": {},
   "outputs": [],
   "source": [
    "Xtrain, Xval, Ytrain, Yval = train_test_split(x_scaled, y_train, test_size = 0.3, stratify=y_train, random_state = 999)"
   ]
  },
  {
   "cell_type": "code",
   "execution_count": 27,
   "metadata": {
    "scrolled": true
   },
   "outputs": [
    {
     "data": {
      "text/plain": [
       "(12432, 5328)"
      ]
     },
     "execution_count": 27,
     "metadata": {},
     "output_type": "execute_result"
    }
   ],
   "source": [
    "len(Xtrain), len(Xval)"
   ]
  },
  {
   "cell_type": "code",
   "execution_count": 28,
   "metadata": {
    "scrolled": true
   },
   "outputs": [
    {
     "data": {
      "text/plain": [
       "(12432, 8460)"
      ]
     },
     "execution_count": 28,
     "metadata": {},
     "output_type": "execute_result"
    }
   ],
   "source": [
    "Xtrain.shape"
   ]
  },
  {
   "cell_type": "markdown",
   "metadata": {},
   "source": [
    "## Classifier"
   ]
  },
  {
   "cell_type": "code",
   "execution_count": 30,
   "metadata": {},
   "outputs": [
    {
     "name": "stdout",
     "output_type": "stream",
     "text": [
      "0.9913931203319206\n",
      "{'C': 0.01}\n",
      "0.9964244344171967\n",
      "0.996433933933934\n"
     ]
    }
   ],
   "source": [
    "#4 grid search\n",
    "\n",
    "# hist(3channels) + hog(hsv) + resize(32,32) + standardscaled \n",
    "\n",
    "skfold = StratifiedKFold(n_splits = 5, shuffle=True, random_state=999)\n",
    "\n",
    "# 파라미터\n",
    "C = [0.01, 0.1, 1, 5]\n",
    "\n",
    "# 파라미터 그리드\n",
    "params = {'C': C}\n",
    "\n",
    "# 교차검증\n",
    "svc_grid = GridSearchCV(estimator=LinearSVC(max_iter = 10000, random_state=999), param_grid=params, cv=skfold, scoring=\"accuracy\", n_jobs = -1)\n",
    "\n",
    "# 모델 fitting\n",
    "svc_grid.fit(Xtrain, Ytrain)\n",
    "\n",
    "# 결과\n",
    "print(svc_grid.best_score_)\n",
    "print(svc_grid.best_params_)\n",
    "\n",
    "#예측\n",
    "pred = svc_grid.best_estimator_.predict(Xval)\n",
    "print(roc_auc_score(Yval, pred))\n",
    "print(accuracy_score(Yval, pred))"
   ]
  },
  {
   "cell_type": "markdown",
   "metadata": {},
   "source": [
    "## Data Saving to Pickle"
   ]
  },
  {
   "cell_type": "code",
   "execution_count": 31,
   "metadata": {},
   "outputs": [],
   "source": [
    "orient=9\n",
    "pixels_per_cell=8\n",
    "cells_per_block=2\n",
    "spatial = 32\n",
    "hist_bins = 32"
   ]
  },
  {
   "cell_type": "code",
   "execution_count": 38,
   "metadata": {},
   "outputs": [],
   "source": [
    "import pickle\n",
    "dist_pickle = {}\n",
    "dist_pickle[\"svc\"] = svc.best_estimator_\n",
    "dist_pickle[\"scaler\"] = Scaler\n",
    "dist_pickle[\"orient\"] = orient\n",
    "dist_pickle[\"pix_per_cell\"] = pixels_per_cell\n",
    "dist_pickle[\"cell_per_block\"] = cells_per_block\n",
    "dist_pickle[\"spatial\"] = spatial\n",
    "dist_pickle[\"hist_bins\"] = hist_bins\n",
    "pickle.dump(dist_pickle, open(\"svc_pickle_ycrcb.p\", 'wb') )"
   ]
  },
  {
   "cell_type": "code",
   "execution_count": null,
   "metadata": {},
   "outputs": [],
   "source": []
  }
 ],
 "metadata": {
  "kernelspec": {
   "display_name": "Python 3",
   "language": "python",
   "name": "python3"
  },
  "language_info": {
   "codemirror_mode": {
    "name": "ipython",
    "version": 3
   },
   "file_extension": ".py",
   "mimetype": "text/x-python",
   "name": "python",
   "nbconvert_exporter": "python",
   "pygments_lexer": "ipython3",
   "version": "3.8.8"
  },
  "varInspector": {
   "cols": {
    "lenName": 16,
    "lenType": 16,
    "lenVar": 40
   },
   "kernels_config": {
    "python": {
     "delete_cmd_postfix": "",
     "delete_cmd_prefix": "del ",
     "library": "var_list.py",
     "varRefreshCmd": "print(var_dic_list())"
    },
    "r": {
     "delete_cmd_postfix": ") ",
     "delete_cmd_prefix": "rm(",
     "library": "var_list.r",
     "varRefreshCmd": "cat(var_dic_list()) "
    }
   },
   "types_to_exclude": [
    "module",
    "function",
    "builtin_function_or_method",
    "instance",
    "_Feature"
   ],
   "window_display": false
  }
 },
 "nbformat": 4,
 "nbformat_minor": 4
}
