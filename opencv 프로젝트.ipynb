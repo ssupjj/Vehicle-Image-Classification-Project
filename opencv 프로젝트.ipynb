{
 "cells": [
  {
   "cell_type": "code",
   "execution_count": 1,
   "id": "90d77a26",
   "metadata": {},
   "outputs": [],
   "source": [
    "import cv2\n",
    "import numpy as np\n",
    "import os\n",
    "import matplotlib.image as mpimg\n",
    "import matplotlib.pyplot as plt\n",
    "from skimage.feature import hog\n",
    "import matplotlib.image as mpimg"
   ]
  },
  {
   "cell_type": "code",
   "execution_count": 2,
   "id": "e28d0438",
   "metadata": {},
   "outputs": [],
   "source": [
    "vehicles_train = []"
   ]
  },
  {
   "cell_type": "code",
   "execution_count": 3,
   "id": "4702f2cc",
   "metadata": {},
   "outputs": [],
   "source": [
    "path_dir = './vehicles/vehicles/'\n",
    "\n",
    "folder_list = os.listdir(path_dir)\n",
    "file_list = {}\n",
    "all_vehicles = []\n",
    "\n",
    "# 파일 리스트 읽기\n",
    "for index, i in enumerate(folder_list[1:]):\n",
    "    file_list[i] = os.listdir(path_dir + i)\n",
    "\n",
    "    \n",
    "# 파일 읽기    \n",
    "for key in file_list.keys():\n",
    "    for value in file_list[key][1:]:\n",
    "        all_vehicles.append(cv2.imread(path_dir + key +'/'+ value))"
   ]
  },
  {
   "cell_type": "code",
   "execution_count": 4,
   "id": "f7a2e775",
   "metadata": {},
   "outputs": [],
   "source": [
    "for i in all_vehicles:\n",
    "    vehicles_train.append([1, i])"
   ]
  },
  {
   "cell_type": "code",
   "execution_count": 5,
   "id": "3ce6d6eb",
   "metadata": {},
   "outputs": [],
   "source": [
    "path_dir = './non-vehicles/non-vehicles/GTI'\n",
    "\n",
    "file_list = os.listdir(path_dir)\n",
    "all_non_vehicles = []\n",
    "# 파일 리스트 읽기\n",
    "for i in file_list:\n",
    "    all_non_vehicles.append(cv2.imread(path_dir + '/'+ i))\n",
    "\n",
    "all_non_vehicles = all_non_vehicles[1:]\n",
    "# 파일 읽기 "
   ]
  },
  {
   "cell_type": "code",
   "execution_count": 6,
   "id": "3535cb1b",
   "metadata": {},
   "outputs": [],
   "source": [
    "for i in all_non_vehicles:\n",
    "    vehicles_train.append([0, i])"
   ]
  },
  {
   "cell_type": "code",
   "execution_count": 7,
   "id": "e5ed8396",
   "metadata": {},
   "outputs": [],
   "source": [
    "labels = []\n",
    "train = []\n",
    "for i in vehicles_train:\n",
    "    labels.append(i[0])\n",
    "    train.append(i[1])"
   ]
  },
  {
   "cell_type": "code",
   "execution_count": 8,
   "id": "b81cca7e",
   "metadata": {},
   "outputs": [],
   "source": [
    "labels = np.array(labels)\n",
    "train = np.array(train)"
   ]
  },
  {
   "cell_type": "code",
   "execution_count": 9,
   "id": "0656e1b0",
   "metadata": {
    "scrolled": true
   },
   "outputs": [
    {
     "data": {
      "text/plain": [
       "(12692, 64, 64, 3)"
      ]
     },
     "execution_count": 9,
     "metadata": {},
     "output_type": "execute_result"
    }
   ],
   "source": [
    "train.shape"
   ]
  },
  {
   "cell_type": "code",
   "execution_count": 260,
   "id": "ebc1bb38",
   "metadata": {},
   "outputs": [
    {
     "data": {
      "text/plain": [
       "(8884, 64, 64, 3)"
      ]
     },
     "execution_count": 260,
     "metadata": {},
     "output_type": "execute_result"
    }
   ],
   "source": [
    "X_train.shape"
   ]
  },
  {
   "cell_type": "code",
   "execution_count": 261,
   "id": "165a3624",
   "metadata": {},
   "outputs": [
    {
     "data": {
      "text/plain": [
       "(3808, 64, 64, 3)"
      ]
     },
     "execution_count": 261,
     "metadata": {},
     "output_type": "execute_result"
    }
   ],
   "source": [
    "X_test.shape # 64 * 64 사이즈의 이미지가 bgr이라는 컬러로. "
   ]
  },
  {
   "cell_type": "code",
   "execution_count": 262,
   "id": "6fc0f63c",
   "metadata": {
    "scrolled": true
   },
   "outputs": [
    {
     "data": {
      "text/plain": [
       "(8884,)"
      ]
     },
     "execution_count": 262,
     "metadata": {},
     "output_type": "execute_result"
    }
   ],
   "source": [
    "y_train.shape"
   ]
  },
  {
   "cell_type": "code",
   "execution_count": 263,
   "id": "f7146b86",
   "metadata": {},
   "outputs": [
    {
     "data": {
      "text/plain": [
       "(3808,)"
      ]
     },
     "execution_count": 263,
     "metadata": {},
     "output_type": "execute_result"
    }
   ],
   "source": [
    "y_test.shape"
   ]
  },
  {
   "cell_type": "code",
   "execution_count": 10,
   "id": "46c52d31",
   "metadata": {},
   "outputs": [],
   "source": [
    "def histogram_feature(img):\n",
    "    \n",
    "    hist = cv2.calcHist(images=[img], channels=[0], mask=None,\n",
    "                histSize=[32], ranges=[0, 256]) \n",
    "    hist_flat = hist.flatten() #[[1, 2, 3], [4, 5, 6]] 2차원 벡터  flatten() = [1, 2, 3, 4, 5, 6] \n",
    "    #plt.plot(hist_flat, color='blue')\n",
    "    #binX = np.arange(32)\n",
    "    #plt.bar(binX, hist_flat, width=1, color='b')\n",
    "    return hist_flat\n",
    "\n",
    "def hogs_feature(img):\n",
    "    hogs=[]\n",
    "    b, g, r = img[:,:,0], img[:,:,1], img[:,:,2] # 21000개 중복 x grayscale = r * 0.8 + g * 0.24 + b * 0.06\n",
    "\n",
    "    for image in (b, g, r):\n",
    "        hog_feature, hog_image = hog(image, orientations=9, pixels_per_cell=(8, 8), cells_per_block=(2, 2), block_norm='L2-Hys'\n",
    "                                     , transform_sqrt=False, visualize=True, feature_vector=False)\n",
    "        flat_hog = hog_feature.flatten()\n",
    "        hogs.append(flat_hog)\n",
    "    return np.array(hogs).flatten()\n",
    "        #fig = plt.figure()\n",
    "        #plt.subplot(121)\n",
    "        #plt.imshow(image)\n",
    "        #plt.subplot(122)\n",
    "        #plt.imshow(hog_image, cmap='gray')\n",
    "\n",
    "def raw_feature(img):\n",
    "    resized = cv2.resize(img, (64, 64), interpolation = cv2.INTER_NEAREST)\n",
    "    resized_flat = resized.flatten()\n",
    "    return resized_flat\n",
    "#     cv2.imshow('res', resized)\n",
    "#     cv2.imshow('img', img)\n",
    "#     cv2.waitKey()\n",
    "#     cv2.destroyAllWindows()"
   ]
  },
  {
   "cell_type": "code",
   "execution_count": null,
   "id": "7b3667f1",
   "metadata": {},
   "outputs": [],
   "source": [
    "0 ~ 7 0번째\n",
    "8~ 15 1번째 0~31 축소 0~ 255"
   ]
  },
  {
   "cell_type": "code",
   "execution_count": 12,
   "id": "c29bd668",
   "metadata": {
    "scrolled": true
   },
   "outputs": [],
   "source": [
    "def my_pipe(img):\n",
    "    i = np.append(np.append(histogram_feature(img), hogs_feature(img), axis=0), raw_feature(img), axis = 0)\n",
    "    return (i)\n",
    "#     print(histogram_feature(img).shape)\n",
    "#     print(hogs_feature(img).shape)\n",
    "#     print(raw_feature(img).shape)\n",
    "#     print(i.shape)"
   ]
  },
  {
   "cell_type": "code",
   "execution_count": 16,
   "id": "1ef5f935",
   "metadata": {},
   "outputs": [
    {
     "data": {
      "text/plain": [
       "(12692,)"
      ]
     },
     "execution_count": 16,
     "metadata": {},
     "output_type": "execute_result"
    }
   ],
   "source": [
    "labels.shape"
   ]
  },
  {
   "cell_type": "code",
   "execution_count": 15,
   "id": "4c66bf8c",
   "metadata": {},
   "outputs": [
    {
     "data": {
      "text/plain": [
       "(12692, 64, 64, 3)"
      ]
     },
     "execution_count": 15,
     "metadata": {},
     "output_type": "execute_result"
    }
   ],
   "source": [
    "train.shape"
   ]
  },
  {
   "cell_type": "code",
   "execution_count": null,
   "id": "8f5273da",
   "metadata": {},
   "outputs": [],
   "source": [
    "train_data = []\n",
    "for img in train:\n",
    "    train_data.append(my_pipe(img))"
   ]
  },
  {
   "cell_type": "code",
   "execution_count": null,
   "id": "89aa19be",
   "metadata": {},
   "outputs": [],
   "source": [
    "labels_data = []\n",
    "for img in labels:\n",
    "    labels_data.append(my_pipe(img))"
   ]
  },
  {
   "cell_type": "code",
   "execution_count": null,
   "id": "eed86e9c",
   "metadata": {},
   "outputs": [],
   "source": [
    "train_data = np.array(train_data)\n",
    "labels_data = np.array(labels_data)"
   ]
  },
  {
   "cell_type": "code",
   "execution_count": null,
   "id": "ec9c6869",
   "metadata": {},
   "outputs": [],
   "source": [
    "train_data.shape"
   ]
  },
  {
   "cell_type": "code",
   "execution_count": null,
   "id": "7c180ddd",
   "metadata": {},
   "outputs": [],
   "source": [
    "labels_data.shape"
   ]
  },
  {
   "cell_type": "code",
   "execution_count": null,
   "id": "692d9cc0",
   "metadata": {},
   "outputs": [],
   "source": [
    "from sklearn.model_selection import train_test_split\n",
    "\n",
    "X_train, X_test, y_train, y_test= train_test_split(train_data, labels_data, test_size = 0.3, stratify=y_train, random_state = 999)"
   ]
  },
  {
   "cell_type": "code",
   "execution_count": null,
   "id": "055dc3ef",
   "metadata": {},
   "outputs": [],
   "source": [
    "from sklearn.model_selection import GridSearchCV\n",
    "from sklearn.svm import SVC"
   ]
  },
  {
   "cell_type": "code",
   "execution_count": null,
   "id": "a85bab71",
   "metadata": {},
   "outputs": [],
   "source": [
    "#skfold = StratifiedKFold(n_splits = 3, shuffle=True, random_state=999)\n",
    "\n",
    "# 파라미터\n",
    "C = [0.01, 5]\n",
    "gamma = [0.001]\n",
    "\n",
    "# 파라미터 그리드\n",
    "params = {'C': C, 'gamma': gamma}\n",
    "\n",
    "# 교차검증\n",
    "svc_grid = GridSearchCV(estimator=SVC(probability=True), param_grid=params, cv=3, scoring=\"accuracy\", n_jobs = -1)\n",
    "\n",
    "# 모델 fitting\n",
    "svc_grid.fit(X_train, y_train)\n",
    "\n",
    "# 결과\n",
    "print(svc_grid.best_score_)\n",
    "print(svc_grid.best_params_)"
   ]
  },
  {
   "cell_type": "code",
   "execution_count": null,
   "id": "dc377705",
   "metadata": {},
   "outputs": [],
   "source": []
  },
  {
   "cell_type": "markdown",
   "id": "af5cfd4d",
   "metadata": {},
   "source": [
    "800 개에 대해서\n",
    "\n",
    "0.6937521706888945\n",
    "\n",
    "{'C': 0.01, 'gamma': 0.001}"
   ]
  },
  {
   "cell_type": "code",
   "execution_count": 295,
   "id": "f26d4359",
   "metadata": {},
   "outputs": [
    {
     "data": {
      "text/plain": [
       "array([1, 2, 3, 1, 2, 3])"
      ]
     },
     "execution_count": 295,
     "metadata": {},
     "output_type": "execute_result"
    }
   ],
   "source": [
    "np.append([1, 2, 3], [1, 2, 3])"
   ]
  },
  {
   "cell_type": "code",
   "execution_count": 286,
   "id": "f097f244",
   "metadata": {},
   "outputs": [
    {
     "data": {
      "text/plain": [
       "array([1, 0, 0, 1, 0, 1, 1, 0, 1, 1, 0, 0, 0, 0, 1, 1, 0, 1, 1, 0, 1, 1,\n",
       "       1, 1, 1, 0, 1, 0, 1, 1, 1, 1, 1, 1, 1, 1, 1, 1, 1, 1, 1, 1, 1, 1,\n",
       "       1, 0, 1, 1, 0, 1, 1, 1, 0, 1, 1, 0, 1, 1, 0, 1, 0, 1, 1, 0, 1, 0,\n",
       "       1, 1, 1, 0, 1, 1, 1, 1, 0, 1, 1, 1, 1, 0, 1, 0, 0, 1, 1, 0, 1, 1,\n",
       "       0, 1, 0, 1, 1, 1, 0, 1, 1, 0, 0, 1])"
      ]
     },
     "execution_count": 286,
     "metadata": {},
     "output_type": "execute_result"
    }
   ],
   "source": [
    "y_train[:100]"
   ]
  },
  {
   "cell_type": "code",
   "execution_count": 173,
   "id": "4f7abc98",
   "metadata": {},
   "outputs": [],
   "source": [
    "raw_feature(img)"
   ]
  },
  {
   "cell_type": "code",
   "execution_count": 139,
   "id": "87a053b3",
   "metadata": {},
   "outputs": [],
   "source": [
    "cv2.imshow('b', b)\n",
    "cv2.imshow('g', g)\n",
    "cv2.imshow('r', r)\n",
    "cv2.waitKey()\n",
    "cv2.destroyAllWindows()"
   ]
  },
  {
   "cell_type": "code",
   "execution_count": null,
   "id": "194523de",
   "metadata": {},
   "outputs": [],
   "source": [
    "0, 255 방향성 = 1\n",
    "0, 100 방향성 = 0.45\n",
    "0, 0 방향성(변화율) = 0"
   ]
  },
  {
   "cell_type": "code",
   "execution_count": null,
   "id": "4ac7edf5",
   "metadata": {},
   "outputs": [],
   "source": [
    "0, 0, 0 = black\n",
    "255, 255, 255 = white"
   ]
  },
  {
   "cell_type": "code",
   "execution_count": 140,
   "id": "a434c864",
   "metadata": {},
   "outputs": [
    {
     "data": {
      "text/plain": [
       "<matplotlib.image.AxesImage at 0x1f7be0c7a90>"
      ]
     },
     "execution_count": 140,
     "metadata": {},
     "output_type": "execute_result"
    },
    {
     "data": {
      "image/png": "[encoded data removed]",
      "text/plain": [
       "<Figure size 432x288 with 2 Axes>"
      ]
     },
     "metadata": {
      "needs_background": "light"
     },
     "output_type": "display_data"
    }
   ],
   "source": [
    "fig = plt.figure()\n",
    "plt.subplot(121)\n",
    "plt.imshow(src)\n",
    "plt.subplot(122)\n",
    "plt.imshow(hog_image, cmap='gray')"
   ]
  },
  {
   "cell_type": "code",
   "execution_count": 118,
   "id": "5d7f436d",
   "metadata": {},
   "outputs": [
    {
     "data": {
      "text/plain": [
       "array([  0.,   1.,  63., 314., 373., 583., 390., 255., 250., 182., 123.,\n",
       "        68.,  93.,  71.,  76.,  80., 119., 139., 163., 173., 188., 182.,\n",
       "        91.,  27.,  19.,  19.,  17.,   9.,   8.,   4.,   6.,  10.],\n",
       "      dtype=float32)"
      ]
     },
     "execution_count": 118,
     "metadata": {},
     "output_type": "execute_result"
    }
   ],
   "source": [
    "hist_flat"
   ]
  },
  {
   "cell_type": "code",
   "execution_count": null,
   "id": "48bd7b91",
   "metadata": {},
   "outputs": [],
   "source": []
  }
 ],
 "metadata": {
  "kernelspec": {
   "display_name": "Python 3",
   "language": "python",
   "name": "python3"
  },
  "language_info": {
   "codemirror_mode": {
    "name": "ipython",
    "version": 3
   },
   "file_extension": ".py",
   "mimetype": "text/x-python",
   "name": "python",
   "nbconvert_exporter": "python",
   "pygments_lexer": "ipython3",
   "version": "3.8.8"
  }
 },
 "nbformat": 4,
 "nbformat_minor": 5
}
